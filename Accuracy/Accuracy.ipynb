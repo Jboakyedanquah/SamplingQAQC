{
 "cells": [
  {
   "cell_type": "markdown",
   "id": "ee5fe4fa",
   "metadata": {},
   "source": [
    "# Project description\n",
    "\n",
    "**Author:** Joseph Boakye Danquah\n",
    "\n",
    "**Date:** September 09, 2024\n",
    "\n",
    "**Description:** This notebook contains the necessary steps to develop an analytical accuracy analysis, including the visualization of results and the application of statistical measurement techniques.\n",
    "\n",
    "---"
   ]
  },
  {
   "cell_type": "markdown",
   "id": "e9b1023f",
   "metadata": {},
   "source": [
    "# Importing libreries"
   ]
  },
  {
   "cell_type": "code",
   "execution_count": 1,
   "id": "35e2423d",
   "metadata": {},
   "outputs": [],
   "source": [
    "# Data visualization\n",
    "import matplotlib.pyplot as plt\n",
    "import seaborn as sns\n",
    "\n",
    "# Data manipulation\n",
    "import numpy as np\n",
    "import pandas as pd"
   ]
  },
  {
   "cell_type": "markdown",
   "id": "201a928a",
   "metadata": {},
   "source": [
    "# Importing data"
   ]
  },
  {
   "cell_type": "code",
   "execution_count": 2,
   "id": "58ce47f9",
   "metadata": {},
   "outputs": [],
   "source": [
    "# Importing data\n",
    "df = pd.read_csv('STD.csv')"
   ]
  },
  {
   "cell_type": "code",
   "execution_count": 3,
   "id": "b75cbcf7",
   "metadata": {},
   "outputs": [
    {
     "data": {
      "text/html": [
       "<div>\n",
       "<style scoped>\n",
       "    .dataframe tbody tr th:only-of-type {\n",
       "        vertical-align: middle;\n",
       "    }\n",
       "\n",
       "    .dataframe tbody tr th {\n",
       "        vertical-align: top;\n",
       "    }\n",
       "\n",
       "    .dataframe thead th {\n",
       "        text-align: right;\n",
       "    }\n",
       "</style>\n",
       "<table border=\"1\" class=\"dataframe\">\n",
       "  <thead>\n",
       "    <tr style=\"text-align: right;\">\n",
       "      <th></th>\n",
       "      <th>Lab</th>\n",
       "      <th>Sample Id</th>\n",
       "      <th>Date Submitted</th>\n",
       "      <th>Date Reported</th>\n",
       "      <th>Au</th>\n",
       "    </tr>\n",
       "  </thead>\n",
       "  <tbody>\n",
       "    <tr>\n",
       "      <th>0</th>\n",
       "      <td>INTK</td>\n",
       "      <td>AG017</td>\n",
       "      <td>12/05/2023</td>\n",
       "      <td>13/05/2023</td>\n",
       "      <td>1.22</td>\n",
       "    </tr>\n",
       "    <tr>\n",
       "      <th>1</th>\n",
       "      <td>INTK</td>\n",
       "      <td>AG034</td>\n",
       "      <td>12/05/2023</td>\n",
       "      <td>14/05/2023</td>\n",
       "      <td>1.24</td>\n",
       "    </tr>\n",
       "    <tr>\n",
       "      <th>2</th>\n",
       "      <td>INTK</td>\n",
       "      <td>AG051</td>\n",
       "      <td>13/05/2023</td>\n",
       "      <td>14/05/2023</td>\n",
       "      <td>1.19</td>\n",
       "    </tr>\n",
       "    <tr>\n",
       "      <th>3</th>\n",
       "      <td>INTK</td>\n",
       "      <td>AG068</td>\n",
       "      <td>14/05/2023</td>\n",
       "      <td>16/05/2023</td>\n",
       "      <td>1.19</td>\n",
       "    </tr>\n",
       "    <tr>\n",
       "      <th>4</th>\n",
       "      <td>INTK</td>\n",
       "      <td>AG085</td>\n",
       "      <td>14/05/2023</td>\n",
       "      <td>17/05/2023</td>\n",
       "      <td>1.20</td>\n",
       "    </tr>\n",
       "  </tbody>\n",
       "</table>\n",
       "</div>"
      ],
      "text/plain": [
       "    Lab Sample Id Date Submitted Date Reported    Au\n",
       "0  INTK     AG017     12/05/2023    13/05/2023  1.22\n",
       "1  INTK     AG034     12/05/2023    14/05/2023  1.24\n",
       "2  INTK     AG051     13/05/2023    14/05/2023  1.19\n",
       "3  INTK     AG068     14/05/2023    16/05/2023  1.19\n",
       "4  INTK     AG085     14/05/2023    17/05/2023  1.20"
      ]
     },
     "execution_count": 3,
     "metadata": {},
     "output_type": "execute_result"
    }
   ],
   "source": [
    "df.head(5)"
   ]
  },
  {
   "cell_type": "code",
   "execution_count": 4,
   "id": "b0d16fc3",
   "metadata": {},
   "outputs": [
    {
     "data": {
      "text/plain": [
       "(17, 5)"
      ]
     },
     "execution_count": 4,
     "metadata": {},
     "output_type": "execute_result"
    }
   ],
   "source": [
    "df.shape"
   ]
  },
  {
   "cell_type": "markdown",
   "id": "dfcb7498",
   "metadata": {},
   "source": [
    "# Accuracy chart"
   ]
  },
  {
   "cell_type": "code",
   "execution_count": 5,
   "id": "b363af40",
   "metadata": {},
   "outputs": [],
   "source": [
    "# Axis setting\n",
    "x = df['Sample Id']\n",
    "y = df['Au']"
   ]
  },
  {
   "cell_type": "code",
   "execution_count": 6,
   "id": "c658eed2",
   "metadata": {},
   "outputs": [],
   "source": [
    "# Edit analyte and Certified Reference Material (CRM) \n",
    "analyte = 'Au'\n",
    "lab = 'INTK'\n",
    "crm = 'Standard'"
   ]
  },
  {
   "cell_type": "code",
   "execution_count": 7,
   "id": "595d5eba",
   "metadata": {},
   "outputs": [],
   "source": [
    "# CRM average and standard deviation \n",
    "av = 1.15\n",
    "desvest = 0.05"
   ]
  },
  {
   "cell_type": "code",
   "execution_count": 8,
   "id": "d00e1a34",
   "metadata": {},
   "outputs": [],
   "source": [
    "# Specification limits\n",
    "minus2SD = av - 2 * desvest\n",
    "minus3SD = av - 3 * desvest\n",
    "plus2SD = av + 2 * desvest\n",
    "plus3SD = av + 3 * desvest"
   ]
  },
  {
   "cell_type": "code",
   "execution_count": 9,
   "id": "d0217f1e",
   "metadata": {},
   "outputs": [
    {
     "data": {
      "text/plain": [
       "0.9999999999999999"
      ]
     },
     "execution_count": 9,
     "metadata": {},
     "output_type": "execute_result"
    }
   ],
   "source": [
    "# Checking\n",
    "minus3SD"
   ]
  },
  {
   "cell_type": "code",
   "execution_count": 10,
   "id": "d7431c44",
   "metadata": {},
   "outputs": [
    {
     "data": {
      "image/png": "[encoded data removed]",
      "text/plain": [
       "<Figure size 640x480 with 1 Axes>"
      ]
     },
     "metadata": {},
     "output_type": "display_data"
    }
   ],
   "source": [
    "# Shewhart plot\n",
    "fig, ax = plt.subplots()\n",
    "\n",
    "ax.set_title(\"Accuracy of Au\")\n",
    "\n",
    "# Samples result lineplot \n",
    "ax.plot(y, color='blue', linewidth=1, marker='o')\n",
    "\n",
    "# Lineplot edgecolors for warnings and errors\n",
    "for i in range(1, len(y)):\n",
    "    if y[i] < minus3SD or y[i] > plus3SD:\n",
    "        ax.scatter(x[i-1], y[i], edgecolors='red', color='white')\n",
    "    elif y[i] < minus2SD or y[i] > plus2SD:\n",
    "        ax.scatter(x[i-1], y[i], edgecolors='black', color='white')\n",
    "    else:\n",
    "        ax.scatter(x[i-1], y[i], color='white')\n",
    "\n",
    "# Control lines    \n",
    "ax.hlines(y=av, xmin=0, xmax=len(df), linewidth=1, color='cyan', linestyles='-', label='Best Value')\n",
    "ax.hlines(y=minus2SD, xmin=0, xmax=len(df), linewidth=2, color='green', linestyles=':', label='±2 σ')\n",
    "ax.hlines(y=plus2SD, xmin=0, xmax=len(df), linewidth=2, color='green', linestyles=':')\n",
    "ax.hlines(y=minus3SD, xmin=0, xmax=len(df), linewidth=2, color='red', linestyles='--', label='±3 σ')\n",
    "ax.hlines(y=plus3SD, xmin=0, xmax=len(df), linewidth=2, color='red', linestyles='--')\n",
    "plt.legend()\n",
    "\n",
    "# Set a standard Y axis range (min: 1.1, max: 1.35)\n",
    "plt.ylim([1.1, 1.35])\n",
    "\n",
    "# Adjust Y ticks as needed\n",
    "plt.yticks(np.arange(1.1, 1.36, 0.05))\n",
    "\n",
    "# Slant the x-axis labels\n",
    "plt.xticks(rotation=45)\n",
    "\n",
    "# Grid plot\n",
    "plt.grid()\n",
    "\n",
    "# Axis titles\n",
    "plt.xlabel('Sample ID')\n",
    "plt.ylabel('Au g/t')\n",
    "\n",
    "plt.show()\n"
   ]
  },
  {
   "cell_type": "markdown",
   "id": "cba6a973",
   "metadata": {},
   "source": [
    "**Comments:**\n",
    "- Add            "
   ]
  },
  {
   "cell_type": "markdown",
   "id": "12071eb6",
   "metadata": {},
   "source": [
    "# Bias"
   ]
  },
  {
   "cell_type": "code",
   "execution_count": 11,
   "id": "6ecaf36f",
   "metadata": {},
   "outputs": [
    {
     "data": {
      "text/plain": [
       "1.204"
      ]
     },
     "execution_count": 11,
     "metadata": {},
     "output_type": "execute_result"
    }
   ],
   "source": [
    "# Average result for CRM analysis \n",
    "means = df['Au'].mean()\n",
    "means.round(3)"
   ]
  },
  {
   "cell_type": "code",
   "execution_count": 12,
   "id": "b7466312",
   "metadata": {},
   "outputs": [],
   "source": [
    "# Bias\n",
    "bias = (means - av) / av * 100"
   ]
  },
  {
   "cell_type": "code",
   "execution_count": 13,
   "id": "79bac7fd",
   "metadata": {},
   "outputs": [
    {
     "name": "stdout",
     "output_type": "stream",
     "text": [
      "Au bias for Standard in laboratory INTK is 4.71\n"
     ]
    }
   ],
   "source": [
    "print(\"{} bias for {} in laboratory {} is {:.2f}\".format(analyte,crm,lab,bias))"
   ]
  },
  {
   "cell_type": "markdown",
   "id": "b5fb215f",
   "metadata": {},
   "source": [
    "**Conclusion:**\n",
    "- Add."
   ]
  }
 ],
 "metadata": {
  "kernelspec": {
   "display_name": "Python 3 (ipykernel)",
   "language": "python",
   "name": "python3"
  },
  "language_info": {
   "codemirror_mode": {
    "name": "ipython",
    "version": 3
   },
   "file_extension": ".py",
   "mimetype": "text/x-python",
   "name": "python",
   "nbconvert_exporter": "python",
   "pygments_lexer": "ipython3",
   "version": "3.12.3"
  },
  "toc": {
   "base_numbering": 1,
   "nav_menu": {},
   "number_sections": true,
   "sideBar": true,
   "skip_h1_title": false,
   "title_cell": "Table of Contents",
   "title_sidebar": "Contents",
   "toc_cell": false,
   "toc_position": {},
   "toc_section_display": true,
   "toc_window_display": false
  }
 },
 "nbformat": 4,
 "nbformat_minor": 5
}
